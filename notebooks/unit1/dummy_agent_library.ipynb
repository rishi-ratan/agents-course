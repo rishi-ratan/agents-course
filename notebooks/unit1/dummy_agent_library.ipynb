{
 "cells": [
  {
   "cell_type": "markdown",
   "id": "fr8fVR1J_SdU",
   "metadata": {
    "id": "fr8fVR1J_SdU"
   },
   "source": [
    "# Dummy Agent Library\n",
    "\n",
    "In this simple example, **we're going to code an Agent from scratch**.\n",
    "\n",
    "This notebook is part of the <a href=\"https://www.hf.co/learn/agents-course\">Hugging Face Agents Course</a>, a free Course from beginner to expert, where you learn to build Agents.\n",
    "\n",
    "<img src=\"https://huggingface.co/datasets/agents-course/course-images/resolve/main/en/communication/share.png\" alt=\"Agent Course\"/>"
   ]
  },
  {
   "cell_type": "code",
   "execution_count": 1,
   "id": "fd47a83e",
   "metadata": {},
   "outputs": [
    {
     "name": "stdout",
     "output_type": "stream",
     "text": [
      "Token has been set successfully!\n"
     ]
    }
   ],
   "source": [
    "import os\n",
    "\n",
    "# Ask the user to enter their Hugging Face token\n",
    "hf_token = input(\"Enter your Hugging Face token: \")\n",
    "\n",
    "# Store it as an environment variable for future use\n",
    "os.environ[\"HF_TOKEN\"] = hf_token\n",
    "\n",
    "print(\"Token has been set successfully!\")"
   ]
  },
  {
   "cell_type": "code",
   "execution_count": 2,
   "id": "ec657731-ac7a-41dd-a0bb-cc661d00d714",
   "metadata": {
    "id": "ec657731-ac7a-41dd-a0bb-cc661d00d714",
    "tags": []
   },
   "outputs": [],
   "source": [
    "!pip install -q huggingface_hub"
   ]
  },
  {
   "cell_type": "markdown",
   "id": "06a4a231",
   "metadata": {},
   "source": [
    "## Serverless API\n",
    "\n",
    "In the Hugging Face ecosystem, there is a convenient feature called Serverless API that allows you to easily run inference on many models. There's no installation or deployment required.\n",
    "\n",
    "To run this notebook, **you need a Hugging Face token** that you can get from https://hf.co/settings/tokens. A \"Read\" token type is sufficient. \n",
    "- If you are running this notebook on Google Colab, you can set it up in the \"settings\" tab under \"secrets\". Make sure to call it \"HF_TOKEN\" and restart the session to load the environment variable (Runtime -> Restart session).\n",
    "- If you are running this notebook locally, you can set it up as an [environment variable](https://huggingface.co/docs/huggingface_hub/en/package_reference/environment_variables). Make sure you restart the kernel after installing or updating huggingface_hub. You can update huggingface_hub by modifying the above `!pip install -q huggingface_hub -U`\n",
    "\n",
    "You also need to request access to [the Meta Llama models](https://huggingface.co/meta-llama), select [Llama-3.2-3B-Instruct](https://huggingface.co/meta-llama/Llama-3.2-3B-Instruct) if you haven't done it click on Expand to review and access and fill the form. Approval usually takes up to an hour."
   ]
  },
  {
   "cell_type": "markdown",
   "id": "8WOxyzcmAEfI",
   "metadata": {
    "id": "8WOxyzcmAEfI"
   },
   "source": [
    "## Serverless API\n",
    "\n",
    "In the Hugging Face ecosystem, there is a convenient feature called Serverless API that allows you to easily run inference on many models. There's no installation or deployment required.\n",
    "\n",
    "To run this notebook, **you need a Hugging Face token** that you can get from https://hf.co/settings/tokens. A \"Read\" token type is sufficient. \n",
    "- If you are running this notebook on Google Colab, you can set it up in the \"settings\" tab under \"secrets\". Make sure to call it \"HF_TOKEN\" and restart the session to load the environment variable (Runtime -> Restart session).\n",
    "- If you are running this notebook locally, you can set it up as an [environment variable](https://huggingface.co/docs/huggingface_hub/en/package_reference/environment_variables). Make sure you restart the kernel after installing or updating huggingface_hub. You can update huggingface_hub by modifying the above `!pip install -q huggingface_hub -U`\n",
    "\n",
    "You also need to request access to [the Meta Llama models](https://huggingface.co/meta-llama), select [Llama-3.2-3B-Instruct](https://huggingface.co/meta-llama/Llama-3.2-3B-Instruct) if you haven't done it click on Expand to review and access and fill the form. Approval usually takes up to an hour."
   ]
  },
  {
   "cell_type": "code",
   "execution_count": 7,
   "id": "5af6ec14-bb7d-49a4-b911-0cf0ec084df5",
   "metadata": {
    "id": "5af6ec14-bb7d-49a4-b911-0cf0ec084df5",
    "tags": []
   },
   "outputs": [],
   "source": [
    "import os\n",
    "from huggingface_hub import InferenceClient\n",
    "\n",
    "HF_TOKEN = os.environ.get(\"HF_TOKEN\")\n",
    "\n",
    "\n",
    "\n",
    "client = InferenceClient(\"meta-llama/Llama-4-Scout-17B-16E-Instruct\")\n",
    "# if the outputs for next cells are wrong, the free model may be overloaded. You can also use this public endpoint that contains Llama-3.2-3B-Instruct\n",
    "#client = InferenceClient(\"https://jc26mwg228mkj8dw.us-east-1.aws.endpoints.huggingface.cloud\")"
   ]
  },
  {
   "cell_type": "code",
   "execution_count": 9,
   "id": "c918666c-48ed-4d6d-ab91-c6ec3892d858",
   "metadata": {
    "colab": {
     "base_uri": "https://localhost:8080/"
    },
    "id": "c918666c-48ed-4d6d-ab91-c6ec3892d858",
    "outputId": "7282095c-c5e7-45e0-be81-8648c954a2f7",
    "tags": []
   },
   "outputs": [
    {
     "name": "stdout",
     "output_type": "stream",
     "text": [
      "Paris.\n"
     ]
    }
   ],
   "source": [
    "# As seen in the LLM section, if we just do decoding, **the model will only stop when it predicts an EOS token**, \n",
    "# and this does not happen here because this is a conversational (chat) model and we didn't apply the chat template it expects.\n",
    "output = client.chat.completions.create(\n",
    "    messages=[\n",
    "        {\"role\": \"user\", \"content\": \"The capital of france is\"},\n",
    "    ],\n",
    "    stream=False,\n",
    "    max_tokens=100,\n",
    ")\n",
    "\n",
    "print(output.choices[0].message.content)"
   ]
  },
  {
   "cell_type": "markdown",
   "id": "w2C4arhyKAEk",
   "metadata": {
    "id": "w2C4arhyKAEk"
   },
   "source": [
    "As seen in the LLM section, if we just do decoding, **the model will only stop when it predicts an EOS token**, and this does not happen here because this is a conversational (chat) model and **we didn't apply the chat template it expects**."
   ]
  },
  {
   "cell_type": "markdown",
   "id": "T9-6h-eVAWrR",
   "metadata": {
    "id": "T9-6h-eVAWrR"
   },
   "source": [
    "If we now add the special tokens related to the <a href=\"https://huggingface.co/meta-llama/Llama-3.2-3B-Instruct\">Llama-3.2-3B-Instruct model</a> that we're using, the behavior changes and it now produces the expected EOS."
   ]
  },
  {
   "cell_type": "code",
   "execution_count": null,
   "id": "ec0b95d7-8f6a-45fc-b477-c2f95153a001",
   "metadata": {
    "colab": {
     "base_uri": "https://localhost:8080/"
    },
    "id": "ec0b95d7-8f6a-45fc-b477-c2f95153a001",
    "outputId": "b56e3257-ff89-4cf7-de60-c2e65f78567b",
    "tags": []
   },
   "outputs": [
    {
     "name": "stdout",
     "output_type": "stream",
     "text": [
      "Paris.\n"
     ]
    }
   ],
   "source": [
    "# If we now add the special tokens related to Llama4 model, the behaviour changes and is now the expected one.\n",
    "prompt=\"\"\"<|begin_of_text|><|start_header_id|>user<|end_header_id|>\n",
    "\n",
    "The capital of france is<|eot_id|><|start_header_id|>assistant<|end_header_id|>\n",
    "\n",
    "\"\"\"\n",
    "output = client.chat.completions.create(\n",
    "    messages=[\n",
    "        {\"role\": \"user\", \"content\": \"The capital of france is\"},\n",
    "    ],\n",
    "    stream=False,\n",
    "    max_tokens=100,\n",
    ")\n",
    "\n",
    "print(output.choices[0].message.content)\n"
   ]
  },
  {
   "cell_type": "markdown",
   "id": "1uKapsiZAbH5",
   "metadata": {
    "id": "1uKapsiZAbH5"
   },
   "source": [
    "Using the \"chat\" method is a much more convenient and reliable way to apply chat templates:"
   ]
  },
  {
   "cell_type": "code",
   "execution_count": 12,
   "id": "eb536eea-f316-4902-aabd-55710e6c4347",
   "metadata": {
    "colab": {
     "base_uri": "https://localhost:8080/"
    },
    "id": "eb536eea-f316-4902-aabd-55710e6c4347",
    "outputId": "6bf13836-36a8-4e21-f5cd-5d79ad2c92d9",
    "tags": []
   },
   "outputs": [
    {
     "name": "stdout",
     "output_type": "stream",
     "text": [
      "Paris.\n"
     ]
    }
   ],
   "source": [
    "output = client.chat.completions.create(\n",
    "    messages=[\n",
    "        {\"role\": \"user\", \"content\": \"The capital of france is\"},\n",
    "    ],\n",
    "    stream=False,\n",
    "    max_tokens=100,\n",
    ")\n",
    "\n",
    "print(output.choices[0].message.content)"
   ]
  },
  {
   "cell_type": "markdown",
   "id": "jtQHk9HHAkb8",
   "metadata": {
    "id": "jtQHk9HHAkb8"
   },
   "source": [
    "The chat method is the RECOMMENDED method to use in order to ensure a **smooth transition between models but since this notebook is only educational**, we will keep using the \"text_generation\" method to understand the details.\n"
   ]
  },
  {
   "cell_type": "markdown",
   "id": "wQ5FqBJuBUZp",
   "metadata": {
    "id": "wQ5FqBJuBUZp"
   },
   "source": [
    "## Dummy Agent\n",
    "\n",
    "In the previous sections, we saw that the **core of an agent library is to append information in the system prompt**.\n",
    "\n",
    "This system prompt is a bit more complex than the one we saw earlier, but it already contains:\n",
    "\n",
    "1. **Information about the tools**\n",
    "2. **Cycle instructions** (Thought → Action → Observation)"
   ]
  },
  {
   "cell_type": "code",
   "execution_count": 13,
   "id": "2c66e9cb-2c14-47d4-a7a1-da826b7fc62d",
   "metadata": {
    "id": "2c66e9cb-2c14-47d4-a7a1-da826b7fc62d",
    "tags": []
   },
   "outputs": [],
   "source": [
    "# This system prompt is a bit more complex and actually contains the function description already appended.\n",
    "# Here we suppose that the textual description of the tools have already been appended\n",
    "SYSTEM_PROMPT = \"\"\"Answer the following questions as best you can. You have access to the following tools:\n",
    "\n",
    "get_weather: Get the current weather in a given location\n",
    "\n",
    "The way you use the tools is by specifying a json blob.\n",
    "Specifically, this json should have a `action` key (with the name of the tool to use) and a `action_input` key (with the input to the tool going here).\n",
    "\n",
    "The only values that should be in the \"action\" field are:\n",
    "get_weather: Get the current weather in a given location, args: {{\"location\": {{\"type\": \"string\"}}}}\n",
    "example use :\n",
    "```\n",
    "{{\n",
    "  \"action\": \"get_weather\",\n",
    "  \"action_input\": {\"location\": \"New York\"}\n",
    "}}\n",
    "\n",
    "ALWAYS use the following format:\n",
    "\n",
    "Question: the input question you must answer\n",
    "Thought: you should always think about one action to take. Only one action at a time in this format:\n",
    "Action:\n",
    "```\n",
    "$JSON_BLOB\n",
    "```\n",
    "Observation: the result of the action. This Observation is unique, complete, and the source of truth.\n",
    "... (this Thought/Action/Observation can repeat N times, you should take several steps when needed. The $JSON_BLOB must be formatted as markdown and only use a SINGLE action at a time.)\n",
    "\n",
    "You must always end your output with the following format:\n",
    "\n",
    "Thought: I now know the final answer\n",
    "Final Answer: the final answer to the original input question\n",
    "\n",
    "Now begin! Reminder to ALWAYS use the exact characters `Final Answer:` when you provide a definitive answer. \"\"\"\n"
   ]
  }
 ],
 "metadata": {
  "colab": {
   "provenance": []
  },
  "kernelspec": {
   "display_name": "myenv",
   "language": "python",
   "name": "python3"
  },
  "language_info": {
   "codemirror_mode": {
    "name": "ipython",
    "version": 3
   },
   "file_extension": ".py",
   "mimetype": "text/x-python",
   "name": "python",
   "nbconvert_exporter": "python",
   "pygments_lexer": "ipython3",
   "version": "3.12.3"
  }
 },
 "nbformat": 4,
 "nbformat_minor": 5
}
